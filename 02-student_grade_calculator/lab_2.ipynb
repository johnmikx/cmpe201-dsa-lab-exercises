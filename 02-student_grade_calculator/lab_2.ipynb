{
 "cells": [
  {
   "cell_type": "markdown",
   "id": "c941ce37",
   "metadata": {},
   "source": [
    "## Subject: Data Structure and Algorithm\n",
    "\n",
    "Lab Activity: Python review\n",
    "\n",
    "Deadline: Sept 20, 11:59pm\n",
    "\n",
    "https://docs.google.com/forms/d/e/1FAIpQLSdoc8mZxIanXUEOF_j5-1C1NCB9Makd-yTV2_WH_wROIVBOrQ/viewform?usp=pp_url\n"
   ]
  },
  {
   "cell_type": "markdown",
   "id": "c99f9bcf",
   "metadata": {},
   "source": [
    "## Exercise 2: Student Grade Calculator\n",
    "**Objective:** Practice using variables, lists, functions, and conditional statements\n",
    "\n",
    "### Problem Description\n",
    "Create a program that calculates the final grade for students in a class. The program should:\n",
    "\n",
    "1. Store student names and their scores in appropriate data structures\n",
    "2. Calculate the average score for each student\n",
    "3. Determine the letter grade based on the average\n",
    "4. Display a formatted report\n",
    "\n",
    "### Requirements\n",
    "- Use a list to store student names: `[\"Alice\", \"Bob\", \"Charlie\", \"Diana\", \"Eve\"]`\n",
    "- Each student has 4 test scores. Store these in a nested list structure\n",
    "- Create a function `calculate_average(scores)` that returns the average of a list of scores\n",
    "- Create a function `get_letter_grade(average)` that returns:\n",
    "  - 'A' for 90-100\n",
    "  - 'B' for 80-89\n",
    "  - 'C' for 70-79\n",
    "  - 'D' for 60-69\n",
    "  - 'F' for below 60\n",
    "- Display results in a formatted table\n",
    "\n",
    "### Sample Data\n",
    "```\n",
    "students = [\"Alice\", \"Bob\", \"Charlie\", \"Diana\", \"Eve\"]\n",
    "scores = [\n",
    "    [85, 92, 78, 94],    # Alice's scores\n",
    "    [76, 83, 91, 87],    # Bob's scores\n",
    "    [94, 89, 96, 93],    # Charlie's scores\n",
    "    [67, 74, 82, 79],    # Diana's scores\n",
    "    [88, 85, 90, 92]     # Eve's scores\n",
    "]\n",
    "```\n",
    "\n",
    "### Expected Output\n",
    "```\n",
    "=== STUDENT GRADE REPORT ===\n",
    "Alice:    Average: 87.25, Grade: B\n",
    "Bob:      Average: 84.25, Grade: B\n",
    "Charlie:  Average: 93.00, Grade: A\n",
    "Diana:    Average: 75.50, Grade: C\n",
    "Eve:      Average: 88.75, Grade: B\n",
    "```\n"
   ]
  },
  {
   "cell_type": "code",
   "execution_count": null,
   "id": "751ec80c",
   "metadata": {},
   "outputs": [],
   "source": [
    "#your code"
   ]
  }
 ],
 "metadata": {
  "kernelspec": {
   "display_name": "Python 3",
   "language": "python",
   "name": "python3"
  },
  "language_info": {
   "name": "python",
   "version": "3.10.17"
  }
 },
 "nbformat": 4,
 "nbformat_minor": 5
}
