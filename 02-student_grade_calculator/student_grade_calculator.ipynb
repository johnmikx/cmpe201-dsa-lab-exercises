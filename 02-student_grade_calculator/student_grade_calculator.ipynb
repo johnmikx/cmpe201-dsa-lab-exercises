{
  "nbformat": 4,
  "nbformat_minor": 0,
  "metadata": {
    "colab": {
      "provenance": []
    },
    "kernelspec": {
      "name": "python3",
      "display_name": "Python 3"
    },
    "language_info": {
      "name": "python"
    }
  },
  "cells": [
    {
      "cell_type": "markdown",
      "source": [
        "***\n",
        "# **Exercise 2: Student Grade Calculator**"
      ],
      "metadata": {
        "id": "Tq69A_OGZTjS"
      }
    },
    {
      "cell_type": "markdown",
      "source": [
        "***\n",
        "### [**John Mike Asuncion**](https://github.com/johnmikx)\n",
        "![BSCPE 2–2](https://img.shields.io/badge/BSCPE_2–2-18BCF2?style=for-the-badge&logo=Home%20Assistant&logoColor=white)\n",
        "![CMPE 201 DSA](https://img.shields.io/badge/[CMPE_201]_Data_Structures_and_Algorithms-FF3621?style=for-the-badge&logo=Databricks&logoColor=white)\n",
        "\n",
        "#### **Professor: Engr. Godofredo T. Avena**\n",
        "##### *September 16, 2025*\n",
        "***"
      ],
      "metadata": {
        "id": "K8TDdj3RZZjc"
      }
    },
    {
      "cell_type": "markdown",
      "source": [
        "## **Table of Contents**\n",
        "\n",
        "* [**1. Objective**](#1)\n",
        "* [**2. Problem Description**](#2)\n",
        "* [**3. Requirements**](#3)\n",
        "* [**4. Sample Data**](#4)\n",
        "* [**5. Expected Output**](#5)\n",
        "* [**6. Solutions**](#6)\n",
        "  * [6.1 Function 1: Average Score of a Student](#6.1)\n",
        "  * [6.2 Function 2: Letter Grade Based on the Calculated Average](#6.2)\n",
        "* [**7. Generate Final Student Grade Report**](#7)\n",
        "***"
      ],
      "metadata": {
        "id": "Bmm7DBMaZcx0"
      }
    },
    {
      "cell_type": "markdown",
      "source": [
        "## **1. Objective**  <a class=\"anchor\" id=\"1\"></a>\n",
        "Practice using variables, lists, functions, and conditional statements"
      ],
      "metadata": {
        "id": "daXGgqOjZg4d"
      }
    },
    {
      "cell_type": "markdown",
      "source": [
        "## **2. Problem Description** <a class=\"anchor\" id=\"2\"></a>\n",
        "Create a program that calculates the final grade for students in a class. The program should:\n",
        "\n",
        "1. Store student names and their scores in appropriate data structures\n",
        "2. Calculate the average score for each student\n",
        "3. Determine the letter grade based on the average\n",
        "4. Display a formatted report"
      ],
      "metadata": {
        "id": "Z3LUjBmrZs1W"
      }
    },
    {
      "cell_type": "markdown",
      "source": [
        "## **3. Requirements** <a class=\"anchor\" id=\"3\"></a>\n",
        "- Use a list to store student names: `[\"Alice\", \"Bob\", \"Charlie\", \"Diana\", \"Eve\"]`\n",
        "- Each student has 4 test scores. Store these in a nested list structure\n",
        "- Create a function `calculate_average(scores)` that returns the average of a list of scores\n",
        "- Create a function `get_letter_grade(average)` that returns:\n",
        "  - 'A' for 90-100\n",
        "  - 'B' for 80-89\n",
        "  - 'C' for 70-79\n",
        "  - 'D' for 60-69\n",
        "  - 'F' for below 60\n",
        "- Display results in a formatted table"
      ],
      "metadata": {
        "id": "8xVF6eTHZye6"
      }
    },
    {
      "cell_type": "markdown",
      "source": [
        "## **4. Sample Data** <a class=\"anchor\" id=\"4\"></a>"
      ],
      "metadata": {
        "id": "1jbl4WNYZ0x_"
      }
    },
    {
      "cell_type": "code",
      "source": [
        "students = [\"Alice\", \"Bob\", \"Charlie\", \"Diana\", \"Eve\"]\n",
        "scores = [\n",
        "    [85, 92, 78, 94],    # Alice's scores\n",
        "    [76, 83, 91, 87],    # Bob's scores\n",
        "    [94, 89, 96, 93],    # Charlie's scores\n",
        "    [67, 74, 82, 79],    # Diana's scores\n",
        "    [88, 85, 90, 92]     # Eve's scores\n",
        "]"
      ],
      "metadata": {
        "id": "4yWDa7rXaZgB"
      },
      "execution_count": 45,
      "outputs": []
    },
    {
      "cell_type": "markdown",
      "source": [
        "## **5. Expected Output** <a class=\"anchor\" id=\"5\"></a>\n",
        "```\n",
        "=== STUDENT GRADE REPORT ===\n",
        "Alice:    Average: 87.25, Grade: B\n",
        "Bob:      Average: 84.25, Grade: B\n",
        "Charlie:  Average: 93.00, Grade: A\n",
        "Diana:    Average: 75.50, Grade: C\n",
        "Eve:      Average: 88.75, Grade: B\n",
        "```"
      ],
      "metadata": {
        "id": "Owpl7CxHZ3Bg"
      }
    },
    {
      "cell_type": "markdown",
      "source": [
        "## **6. Solutions** <a class=\"anchor\" id=\"6\"></a>"
      ],
      "metadata": {
        "id": "AlfdqYyYZ5hi"
      }
    },
    {
      "cell_type": "markdown",
      "source": [
        "### **6.1 Function 1: Average Score of a Student (`calculate_average`)** <a class=\"anchor\" id=\"6.1\"></a>\n",
        "This function calculates the **average score** of a student.\n",
        "\n",
        "***Mathematically***, the average is given by:\n",
        "\n",
        "$$\n",
        "\\text{Average} = \\frac{\\text{Sum of Scores}}{\\text{Number of Scores}}\n",
        "$$"
      ],
      "metadata": {
        "id": "ONaxQSbMddtW"
      }
    },
    {
      "cell_type": "code",
      "execution_count": 44,
      "metadata": {
        "id": "hb52-mmO6KSt"
      },
      "outputs": [],
      "source": [
        "def calculate_average(scores):\n",
        "  return sum(scores) / len(scores)"
      ]
    },
    {
      "cell_type": "code",
      "source": [
        "#########\n",
        "# Alice\n",
        "#########\n",
        "calculate_average(scores[0])"
      ],
      "metadata": {
        "colab": {
          "base_uri": "https://localhost:8080/"
        },
        "id": "JgsZZoRWfpPp",
        "outputId": "de2567df-c492-4ac2-bf62-dfe3e1cb0b6d"
      },
      "execution_count": 31,
      "outputs": [
        {
          "output_type": "execute_result",
          "data": {
            "text/plain": [
              "87.25"
            ]
          },
          "metadata": {},
          "execution_count": 31
        }
      ]
    },
    {
      "cell_type": "code",
      "source": [
        "#########\n",
        "# Bob\n",
        "#########\n",
        "\n",
        "calculate_average(scores[1])"
      ],
      "metadata": {
        "colab": {
          "base_uri": "https://localhost:8080/"
        },
        "id": "m5XVDB9fgAn7",
        "outputId": "27222bbb-384b-4712-ee73-b91b8f1f6fd1"
      },
      "execution_count": 32,
      "outputs": [
        {
          "output_type": "execute_result",
          "data": {
            "text/plain": [
              "84.25"
            ]
          },
          "metadata": {},
          "execution_count": 32
        }
      ]
    },
    {
      "cell_type": "code",
      "source": [
        "#########\n",
        "# Charlie\n",
        "#########\n",
        "\n",
        "calculate_average(scores[2])"
      ],
      "metadata": {
        "colab": {
          "base_uri": "https://localhost:8080/"
        },
        "id": "ZrUnRc_VgCYV",
        "outputId": "177eb51f-636f-4fee-913d-1c757964aada"
      },
      "execution_count": 33,
      "outputs": [
        {
          "output_type": "execute_result",
          "data": {
            "text/plain": [
              "93.0"
            ]
          },
          "metadata": {},
          "execution_count": 33
        }
      ]
    },
    {
      "cell_type": "code",
      "source": [
        "#########\n",
        "# Diana\n",
        "#########\n",
        "\n",
        "calculate_average(scores[3])"
      ],
      "metadata": {
        "colab": {
          "base_uri": "https://localhost:8080/"
        },
        "id": "gH8Oz9l7gE1E",
        "outputId": "f4212688-20cb-4b49-e0c9-69ce67581a96"
      },
      "execution_count": 34,
      "outputs": [
        {
          "output_type": "execute_result",
          "data": {
            "text/plain": [
              "75.5"
            ]
          },
          "metadata": {},
          "execution_count": 34
        }
      ]
    },
    {
      "cell_type": "code",
      "source": [
        "#########\n",
        "# Eve\n",
        "#########\n",
        "\n",
        "calculate_average(scores[4])"
      ],
      "metadata": {
        "colab": {
          "base_uri": "https://localhost:8080/"
        },
        "id": "bgDRt5lmgGC-",
        "outputId": "7fbecec9-0935-4483-d377-5ed84a0d0df8"
      },
      "execution_count": 35,
      "outputs": [
        {
          "output_type": "execute_result",
          "data": {
            "text/plain": [
              "88.75"
            ]
          },
          "metadata": {},
          "execution_count": 35
        }
      ]
    },
    {
      "cell_type": "markdown",
      "source": [
        "### **6.2 Function 2: Letter Grade Based on the Calculated Average (`get_letter_grade`)** <a class=\"anchor\" id=\"6.2\"></a>\n",
        "This function assigns a **letter grade** based on the calculated average.\n",
        "\n",
        "The grading rules are:\n",
        "\n",
        "$$\n",
        "\\text{Grade} =\n",
        "\\begin{cases}\n",
        "A & \\text{if } 90 \\leq \\text{Average} \\leq 100 \\\\\n",
        "B & \\text{if } 80 \\leq \\text{Average} < 90 \\\\\n",
        "C & \\text{if } 70 \\leq \\text{Average} < 80 \\\\\n",
        "D & \\text{if } 60 \\leq \\text{Average} < 70 \\\\\n",
        "F & \\text{if } \\text{Average} < 60\n",
        "\\end{cases}\n",
        "$$"
      ],
      "metadata": {
        "id": "I46oxpQqdwZr"
      }
    },
    {
      "cell_type": "code",
      "source": [
        "def get_letter_grade(average):\n",
        "  if average >= 90:\n",
        "    return 'A'\n",
        "  elif average >= 80:\n",
        "    return 'B'\n",
        "  elif average >= 70:\n",
        "    return 'C'\n",
        "  elif average >= 60:\n",
        "    return 'D'\n",
        "  else:\n",
        "    return 'F'"
      ],
      "metadata": {
        "id": "atnjgrVpg4O8"
      },
      "execution_count": 36,
      "outputs": []
    },
    {
      "cell_type": "code",
      "source": [
        "#########\n",
        "# Alice\n",
        "#########\n",
        "\n",
        "get_letter_grade(calculate_average(scores[0]))"
      ],
      "metadata": {
        "colab": {
          "base_uri": "https://localhost:8080/",
          "height": 36
        },
        "id": "wsyGoBIah5Tj",
        "outputId": "c739e988-42c5-4e38-c9ae-7f4047d4294b"
      },
      "execution_count": 37,
      "outputs": [
        {
          "output_type": "execute_result",
          "data": {
            "text/plain": [
              "'B'"
            ],
            "application/vnd.google.colaboratory.intrinsic+json": {
              "type": "string"
            }
          },
          "metadata": {},
          "execution_count": 37
        }
      ]
    },
    {
      "cell_type": "code",
      "source": [
        "#########\n",
        "# Bob\n",
        "#########\n",
        "\n",
        "get_letter_grade(calculate_average(scores[1]))"
      ],
      "metadata": {
        "colab": {
          "base_uri": "https://localhost:8080/",
          "height": 36
        },
        "id": "k6FNzvD2iCpN",
        "outputId": "1a9cafb7-ca83-4ab1-d21f-626019f8ae17"
      },
      "execution_count": 38,
      "outputs": [
        {
          "output_type": "execute_result",
          "data": {
            "text/plain": [
              "'B'"
            ],
            "application/vnd.google.colaboratory.intrinsic+json": {
              "type": "string"
            }
          },
          "metadata": {},
          "execution_count": 38
        }
      ]
    },
    {
      "cell_type": "code",
      "source": [
        "#########\n",
        "# Charlie\n",
        "#########\n",
        "\n",
        "get_letter_grade(calculate_average(scores[2]))"
      ],
      "metadata": {
        "colab": {
          "base_uri": "https://localhost:8080/",
          "height": 36
        },
        "id": "jAH0GhkXibgQ",
        "outputId": "b41d58c9-0f65-4e0f-9919-9e2469583e08"
      },
      "execution_count": 39,
      "outputs": [
        {
          "output_type": "execute_result",
          "data": {
            "text/plain": [
              "'A'"
            ],
            "application/vnd.google.colaboratory.intrinsic+json": {
              "type": "string"
            }
          },
          "metadata": {},
          "execution_count": 39
        }
      ]
    },
    {
      "cell_type": "code",
      "source": [
        "#########\n",
        "# Diana\n",
        "#########\n",
        "\n",
        "get_letter_grade(calculate_average(scores[3]))"
      ],
      "metadata": {
        "colab": {
          "base_uri": "https://localhost:8080/",
          "height": 36
        },
        "id": "snJyd1ykidyJ",
        "outputId": "d1f40fb5-594a-43e0-e3c6-74e8be0b3719"
      },
      "execution_count": 40,
      "outputs": [
        {
          "output_type": "execute_result",
          "data": {
            "text/plain": [
              "'C'"
            ],
            "application/vnd.google.colaboratory.intrinsic+json": {
              "type": "string"
            }
          },
          "metadata": {},
          "execution_count": 40
        }
      ]
    },
    {
      "cell_type": "code",
      "source": [
        "#########\n",
        "# Eve\n",
        "#########\n",
        "\n",
        "get_letter_grade(calculate_average(scores[4]))"
      ],
      "metadata": {
        "colab": {
          "base_uri": "https://localhost:8080/",
          "height": 36
        },
        "id": "ObY72cv7ikq3",
        "outputId": "1df40dd9-30e5-41c5-93bf-91a131cdf618"
      },
      "execution_count": 41,
      "outputs": [
        {
          "output_type": "execute_result",
          "data": {
            "text/plain": [
              "'B'"
            ],
            "application/vnd.google.colaboratory.intrinsic+json": {
              "type": "string"
            }
          },
          "metadata": {},
          "execution_count": 41
        }
      ]
    },
    {
      "cell_type": "markdown",
      "source": [
        "## **7. Generate Final Student Grade Report** <a class=\"anchor\" id=\"7\"></a>"
      ],
      "metadata": {
        "id": "JvZaMmzUisvz"
      }
    },
    {
      "cell_type": "code",
      "source": [
        "print(\"=== STUDENT GRADE REPORT ===\")\n",
        "for i in range(len(students)):\n",
        "  avg = calculate_average(scores[i])\n",
        "  grade = get_letter_grade(avg)\n",
        "  print(f\"{students[i]:<8}: Average: {avg:.2f}, Grade: {grade}\")"
      ],
      "metadata": {
        "colab": {
          "base_uri": "https://localhost:8080/"
        },
        "id": "Dh1_mQs0i5pU",
        "outputId": "b2af8c22-b07a-4b4b-9a1a-5f4e50a95d6e"
      },
      "execution_count": 46,
      "outputs": [
        {
          "output_type": "stream",
          "name": "stdout",
          "text": [
            "=== STUDENT GRADE REPORT ===\n",
            "Alice   : Average: 87.25, Grade: B\n",
            "Bob     : Average: 84.25, Grade: B\n",
            "Charlie : Average: 93.00, Grade: A\n",
            "Diana   : Average: 75.50, Grade: C\n",
            "Eve     : Average: 88.75, Grade: B\n"
          ]
        }
      ]
    }
  ]
}