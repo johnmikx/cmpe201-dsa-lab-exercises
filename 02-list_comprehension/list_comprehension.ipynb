{
  "nbformat": 4,
  "nbformat_minor": 0,
  "metadata": {
    "colab": {
      "provenance": [],
      "toc_visible": true
    },
    "kernelspec": {
      "name": "python3",
      "display_name": "Python 3"
    },
    "language_info": {
      "name": "python"
    }
  },
  "cells": [
    {
      "cell_type": "markdown",
      "source": [
        "***\n",
        "# **Exercise 2: List Comprehension**"
      ],
      "metadata": {
        "id": "6zFcvUJD7Ux_"
      }
    },
    {
      "cell_type": "markdown",
      "source": [
        "***\n",
        "### [**John Mike Asuncion**](https://github.com/johnmikx)\n",
        "![BSCPE 2–2](https://img.shields.io/badge/BSCPE_2–2-18BCF2?style=for-the-badge&logo=Home%20Assistant&logoColor=white)\n",
        "![CMPE 201 DSA](https://img.shields.io/badge/[CMPE_201]_Data_Structures_and_Algorithms-FF3621?style=for-the-badge&logo=Databricks&logoColor=white)\n",
        "\n",
        "#### **Professor: Engr. Godofredo T. Avena**\n",
        "##### *September 26, 2025*\n",
        "***"
      ],
      "metadata": {
        "id": "V-8cbxeQ7amg"
      }
    },
    {
      "cell_type": "markdown",
      "source": [
        "## **Table of Contents**\n",
        "\n",
        "* [**1. Convert Celsius to Fahrenheit**](#1)\n",
        "* [**2. Extract Valid Numeric Grades and Categorize**](#2)\n",
        "* [**3. Extract Words Longer than 4 Characters and Reverse**](#3)\n",
        "* [**4. Extract Valid Email Addresses and Get Their Domains**](#4)\n",
        "* [**5. Even Perfect Squares in 1-100**](#5)\n",
        "***"
      ],
      "metadata": {
        "id": "NF0tGl8W7f7F"
      }
    },
    {
      "cell_type": "markdown",
      "source": [
        "## **1. Convert Celsius to Fahrenheit** <a class=\"anchor\" id=\"1\"></a>\n",
        "\n",
        "Convert Celsius temperatures to Fahrenheit, only for temps above $0°C$\n",
        "\n",
        "```\n",
        "    Celsius: [-5, 0, 10, 25, 30, -2, 15, 35]\n",
        "    Fahrenheit (>0°C only): [50.0, 77.0, 86.0, 59.0, 95.0]\n",
        "```\n"
      ],
      "metadata": {
        "id": "qwTJBFGb-JCo"
      }
    },
    {
      "cell_type": "code",
      "source": [
        "celsius = [-5, 0, 10, 25, 30, -2, 15, 35]\n",
        "\n",
        "fahrenheit = [round(c * 9/5 + 32, 1) for c in celsius if c > 0]\n",
        "\n",
        "fahrenheit"
      ],
      "metadata": {
        "colab": {
          "base_uri": "https://localhost:8080/"
        },
        "id": "4bkPfFvKCIvi",
        "outputId": "82601928-3f08-46f8-e136-c6f1212de242"
      },
      "execution_count": 45,
      "outputs": [
        {
          "output_type": "execute_result",
          "data": {
            "text/plain": [
              "[50.0, 77.0, 86.0, 59.0, 95.0]"
            ]
          },
          "metadata": {},
          "execution_count": 45
        }
      ]
    },
    {
      "cell_type": "code",
      "source": [
        "print(f\"Fahrenheit (>0°C only): {fahrenheit}\")"
      ],
      "metadata": {
        "colab": {
          "base_uri": "https://localhost:8080/"
        },
        "id": "5CC5lQLYC8ry",
        "outputId": "6e50145f-9aab-4c81-9728-d63c5764691e"
      },
      "execution_count": 21,
      "outputs": [
        {
          "output_type": "stream",
          "name": "stdout",
          "text": [
            "Fahrenheit (>0°C only): [50.0, 77.0, 86.0, 59.0, 95.0]\n"
          ]
        }
      ]
    },
    {
      "cell_type": "markdown",
      "source": [
        "## **2. Extract Valid Numeric Grades and Categorize** <a class=\"anchor\" id=\"2\"></a>\n",
        "\n",
        "Extract valid numeric grades and categorize them (passing grade is $\\geq 80$)\n",
        "\n",
        "```\n",
        "    Raw grades: ['85', 'invalid', '92', '78', '', '95', 'not_a_grade', '88']\n",
        "    Grade results: ['Pass', 'Pass', 'Fail', 'Pass', 'Pass']\n",
        "```\n"
      ],
      "metadata": {
        "id": "x4zEMurW-v03"
      }
    },
    {
      "cell_type": "code",
      "source": [
        "raw = ['85', 'invalid', '92', '78', '', '95', 'not_a_grade', '88']\n",
        "\n",
        "grades = [\"Pass\" if int(x) >= 80 else \"Fail\" for x in raw if x.isdigit()]\n",
        "\n",
        "grades"
      ],
      "metadata": {
        "colab": {
          "base_uri": "https://localhost:8080/"
        },
        "id": "j9bqAE03DZIz",
        "outputId": "11fe21a3-1ba4-441f-d788-2a94bb14ed31"
      },
      "execution_count": 44,
      "outputs": [
        {
          "output_type": "execute_result",
          "data": {
            "text/plain": [
              "['Pass', 'Pass', 'Fail', 'Pass', 'Pass']"
            ]
          },
          "metadata": {},
          "execution_count": 44
        }
      ]
    },
    {
      "cell_type": "code",
      "source": [
        "print(f\"Grade results: {grades}\")"
      ],
      "metadata": {
        "colab": {
          "base_uri": "https://localhost:8080/"
        },
        "id": "rWcVq9iaDpaa",
        "outputId": "f823bd68-ae33-4044-f5dd-0fe654953a57"
      },
      "execution_count": 25,
      "outputs": [
        {
          "output_type": "stream",
          "name": "stdout",
          "text": [
            "Grade results: ['Pass', 'Pass', 'Fail', 'Pass', 'Pass']\n"
          ]
        }
      ]
    },
    {
      "cell_type": "markdown",
      "source": [
        "## **3. Extract Words Longer than 4 Characters and Reverse** <a class=\"anchor\" id=\"3\"></a>\n",
        "\n",
        "Extract words longer than 4 characters and reverse them\n",
        "\n",
        "```\n",
        "    Original: The quick brown fox jumps over the lazy dog\n",
        "    Reversed long words: ['kciuq', 'nworb', 'spmuj']\n",
        "```"
      ],
      "metadata": {
        "id": "V-IVHOMU_bZT"
      }
    },
    {
      "cell_type": "code",
      "source": [
        "s = \"The quick brown fox jumps over the lazy dog\"\n",
        "\n",
        "reversed_long_words = [word[::-1] for word in s.split() if len(word) > 4]\n",
        "\n",
        "reversed_long_words"
      ],
      "metadata": {
        "colab": {
          "base_uri": "https://localhost:8080/"
        },
        "id": "5akAMdjND-r0",
        "outputId": "c497cfc9-6a7f-4271-e0b2-a8c4d031a5dc"
      },
      "execution_count": 43,
      "outputs": [
        {
          "output_type": "execute_result",
          "data": {
            "text/plain": [
              "['kciuq', 'nworb', 'spmuj']"
            ]
          },
          "metadata": {},
          "execution_count": 43
        }
      ]
    },
    {
      "cell_type": "code",
      "source": [
        "print(f\"Reversed long words: {reversed_long_words}\")"
      ],
      "metadata": {
        "colab": {
          "base_uri": "https://localhost:8080/"
        },
        "id": "6EEIcJWLEaIN",
        "outputId": "c8ca8a1a-3fc7-4cd4-9766-c5f658ecd9e6"
      },
      "execution_count": 29,
      "outputs": [
        {
          "output_type": "stream",
          "name": "stdout",
          "text": [
            "Reversed long words: ['kciuq', 'nworb', 'spmuj']\n"
          ]
        }
      ]
    },
    {
      "cell_type": "markdown",
      "source": [
        "## **4. Extract Valid Email Addresses and Get Their Domains** <a class=\"anchor\" id=\"4\"></a>\n",
        "\n",
        "Extract valid email addresses and get their domains\n",
        "\n",
        "```\n",
        "    Emails: ['user@gmail.com', 'invalid-email', 'test@yahoo.com', 'bad@', 'admin@company.org', 'no-at-sign.com']\n",
        "    Valid domains: ['gmail.com', 'yahoo.com', 'company.org']\n",
        "```"
      ],
      "metadata": {
        "id": "akMa-gH9BNfz"
      }
    },
    {
      "cell_type": "code",
      "source": [
        "emails = ['user@gmail.com', 'invalid-email', 'test@yahoo.com', 'bad@', 'admin@company.org', 'no-at-sign.com']\n",
        "\n",
        "valid_domains = [e.split('@')[1] for e in emails if '@' in e and '.' in e.split('@')[1]]\n",
        "\n",
        "valid_domains"
      ],
      "metadata": {
        "colab": {
          "base_uri": "https://localhost:8080/"
        },
        "id": "cjIEC_DHEw8d",
        "outputId": "8e8e3fb8-7b77-47b9-9412-ee22b3071e99"
      },
      "execution_count": 42,
      "outputs": [
        {
          "output_type": "execute_result",
          "data": {
            "text/plain": [
              "['gmail.com', 'yahoo.com', 'company.org']"
            ]
          },
          "metadata": {},
          "execution_count": 42
        }
      ]
    },
    {
      "cell_type": "code",
      "source": [
        "print(f\"Valid domains: {valid_domains}\")"
      ],
      "metadata": {
        "colab": {
          "base_uri": "https://localhost:8080/"
        },
        "id": "rwZ2FnQIFSXu",
        "outputId": "bacb9efb-462e-4ca7-8cb9-fd3b42686b9a"
      },
      "execution_count": 36,
      "outputs": [
        {
          "output_type": "stream",
          "name": "stdout",
          "text": [
            "Valid domains: ['gmail.com', 'yahoo.com', 'company.org']\n"
          ]
        }
      ]
    },
    {
      "cell_type": "markdown",
      "source": [
        "## **5. Even Perfect Squares in 1-100** <a class=\"anchor\" id=\"5\"></a>\n",
        "\n",
        "Find perfect squares that are also even, within range 1-100\n",
        "\n",
        "```\n",
        "    Even perfect squares (1-100): [4, 16, 36, 64, 100]\n",
        "```"
      ],
      "metadata": {
        "id": "6LY47OheBR8j"
      }
    },
    {
      "cell_type": "code",
      "source": [
        "even_perfect_squares = [i*i for i in range(1, 11) if (i*i) % 2 == 0]\n",
        "\n",
        "even_perfect_squares"
      ],
      "metadata": {
        "colab": {
          "base_uri": "https://localhost:8080/"
        },
        "id": "pPz7_F3IFcbo",
        "outputId": "47e4bf11-2af8-4611-9fb3-38797fd7435f"
      },
      "execution_count": 41,
      "outputs": [
        {
          "output_type": "execute_result",
          "data": {
            "text/plain": [
              "[4, 16, 36, 64, 100]"
            ]
          },
          "metadata": {},
          "execution_count": 41
        }
      ]
    },
    {
      "cell_type": "code",
      "source": [
        "print(f\"Even perfect squares (1-100): {even_perfect_squares}\")"
      ],
      "metadata": {
        "colab": {
          "base_uri": "https://localhost:8080/"
        },
        "id": "ot-IddW7FzF4",
        "outputId": "6f0fbb0c-04f3-4b72-fdcd-073849fa9b5e"
      },
      "execution_count": 39,
      "outputs": [
        {
          "output_type": "stream",
          "name": "stdout",
          "text": [
            "Even perfect squares (1-100): [4, 16, 36, 64, 100]\n"
          ]
        }
      ]
    },
    {
      "cell_type": "markdown",
      "source": [
        "##"
      ],
      "metadata": {
        "id": "rLorD8iP8_Ug"
      }
    }
  ]
}