{
  "nbformat": 4,
  "nbformat_minor": 0,
  "metadata": {
    "colab": {
      "provenance": []
    },
    "kernelspec": {
      "name": "python3",
      "display_name": "Python 3"
    },
    "language_info": {
      "name": "python"
    }
  },
  "cells": [
    {
      "cell_type": "markdown",
      "source": [
        "***\n",
        "# **Exercise 1: Text Analysis Tool**"
      ],
      "metadata": {
        "id": "x6RRJ2OiKp1i"
      }
    },
    {
      "cell_type": "markdown",
      "source": [
        "***\n",
        "### [**John Mike Asuncion**](https://github.com/johnmikx)\n",
        "![BSCPE 2–2](https://img.shields.io/badge/BSCPE_2–2-18BCF2?style=for-the-badge&logo=Home%20Assistant&logoColor=white)\n",
        "![CMPE 201 DSA](https://img.shields.io/badge/[CMPE_201]_Data_Structures_and_Algorithms-FF3621?style=for-the-badge&logo=Databricks&logoColor=white)\n",
        "\n",
        "#### **Professor: Engr. Godofredo T. Avena**\n",
        "##### *September 16, 2025*\n",
        "***"
      ],
      "metadata": {
        "id": "gLlTYzOvKyIV"
      }
    },
    {
      "cell_type": "markdown",
      "source": [
        "## **Table of Contents**\n",
        "\n",
        "* [**1. Objective**](#1)\n",
        "* [**2. Problem Description**](#2)\n",
        "* [**3. Requirements**](#3)\n",
        "* [**4. Sample Text**](#4)\n",
        "* [**5. Expected Output**](#5)\n",
        "* [**6. Solutions**](#6)\n",
        "  * [6.1 Cleaning the Text](#6.1)\n",
        "  * [6.2 Counting Words](#6.2)\n",
        "  * [6.3 Counting Sentences](#6.3)\n",
        "  * [6.4 Counting Paragraphs](#6.4)\n",
        "  * [6.5 Most Common Word](#6.5)\n",
        "  * [6.6 Average Word Length](#6.6)\n",
        "  * [6.7 Finding Long Words](#6.7)\n",
        "* [**7. Generate Final Text Analysis Report**](#7)\n",
        "***"
      ],
      "metadata": {
        "id": "tCxG_qhjRO2G"
      }
    },
    {
      "cell_type": "markdown",
      "source": [
        "## **1. Objective**  <a class=\"anchor\" id=\"1\"></a>\n",
        "Practice string manipulation, loops, conditional statements, and function"
      ],
      "metadata": {
        "id": "fUTb88w6T1zO"
      }
    },
    {
      "cell_type": "markdown",
      "source": [
        "## **2. Problem Description** <a class=\"anchor\" id=\"2\"></a>\n",
        "Create a text analysis tool that can analyze a given text and provide various statistics."
      ],
      "metadata": {
        "id": "c4UowP-LU6qM"
      }
    },
    {
      "cell_type": "markdown",
      "source": [
        "## **3. Requirements** <a class=\"anchor\" id=\"3\"></a>\n",
        "1. Create functions to analyze a text string:\n",
        "   - `count_words(text)`: Count total number of words\n",
        "   - `count_sentences(text)`: Count sentences (assume sentences end with '.', '!', or '?')\n",
        "   - `count_paragraphs(text)`: Count paragraphs (separated by double newlines)\n",
        "   - `most_common_word(text)`: Find the most frequently used word (ignore case)\n",
        "   - `average_word_length(text)`: Calculate average length of words\n",
        "   - `find_long_words(text, min_length)`: Find all words longer than specified length\n",
        "\n",
        "2. Clean the text by removing punctuation when counting words\n",
        "3. Handle case sensitivity appropriately"
      ],
      "metadata": {
        "id": "1WyEUBnAWUWr"
      }
    },
    {
      "cell_type": "markdown",
      "source": [
        "## **4. Sample Text** <a class=\"anchor\" id=\"4\"></a>"
      ],
      "metadata": {
        "id": "ENdoq13qX8Xy"
      }
    },
    {
      "cell_type": "code",
      "source": [
        "sample_text = \"\"\"\n",
        "Python is a high-level programming language. It is known for its simplicity and readability.\n",
        "Python supports multiple programming paradigms including procedural, object-oriented, and functional programming.\n",
        "\n",
        "Many developers choose Python for its extensive libraries and frameworks.\n",
        "The language is widely used in web development, data science, artificial intelligence, and automation.\n",
        "Python's philosophy emphasizes code readability and simplicity!\n",
        "\"\"\""
      ],
      "metadata": {
        "id": "efMVVqUJphnB"
      },
      "execution_count": 119,
      "outputs": []
    },
    {
      "cell_type": "markdown",
      "source": [
        "## **5. Expected Output** <a class=\"anchor\" id=\"5\"></a>\n",
        "```\n",
        "=== TEXT ANALYSIS REPORT ===\n",
        "Total Words: 56\n",
        "Total Sentences: 6\n",
        "Total Paragraphs: 2\n",
        "Most Common Word: \"python\" (appears 4 times)\n",
        "Average Word Length: 6.2 characters\n",
        "Words longer than 8 characters: ['programming', 'language', 'simplicity', 'readability', ...]\n",
        "```"
      ],
      "metadata": {
        "id": "yXWaZv4NYNbH"
      }
    },
    {
      "cell_type": "markdown",
      "source": [
        "## **6. Solutions** <a class=\"anchor\" id=\"6\"></a>"
      ],
      "metadata": {
        "id": "dZpig-9AYAtc"
      }
    },
    {
      "cell_type": "markdown",
      "source": [
        "### **6.1 Cleaning the Text (`clean_text`)** <a class=\"anchor\" id=\"6.1\"></a>\n",
        "\n",
        "1. Define a string of punction marks.\n",
        "2. For each punctuation mark, remove it from the text.\n",
        "3. Convert text to lowercase.\n",
        "4. Return the cleaned text."
      ],
      "metadata": {
        "id": "kgcuskT5ZLTs"
      }
    },
    {
      "cell_type": "code",
      "source": [
        "def clean_text(text):\n",
        "  \"\"\"Remove punctuation and convert text to lowercase.\"\"\"\n",
        "  punctuation = \".,!?;:'\\\"-()[]{}<>@#$%^&*_~\\\\/\"\n",
        "\n",
        "  for p in punctuation:\n",
        "    text = text.replace(p, \"\")\n",
        "\n",
        "  return text.lower()"
      ],
      "metadata": {
        "id": "zXu_HO4xeYK_"
      },
      "execution_count": 104,
      "outputs": []
    },
    {
      "cell_type": "code",
      "source": [
        "clean_text(sample_text)"
      ],
      "metadata": {
        "colab": {
          "base_uri": "https://localhost:8080/",
          "height": 70
        },
        "id": "hr3urYtjrW61",
        "outputId": "4917892e-eea8-4a11-d15c-fab304968c7c"
      },
      "execution_count": 105,
      "outputs": [
        {
          "output_type": "execute_result",
          "data": {
            "text/plain": [
              "'\\npython is a highlevel programming language it is known for its simplicity and readability\\npython supports multiple programming paradigms including procedural objectoriented and functional programming\\n\\nmany developers choose python for its extensive libraries and frameworks \\nthe language is widely used in web development data science artificial intelligence and automation\\npythons philosophy emphasizes code readability and simplicity\\n'"
            ],
            "application/vnd.google.colaboratory.intrinsic+json": {
              "type": "string"
            }
          },
          "metadata": {},
          "execution_count": 105
        }
      ]
    },
    {
      "cell_type": "markdown",
      "source": [
        "### **6.2 Counting Words (`count_words`)** <a class=\"anchor\" id=\"6.2\"></a>\n",
        "\n",
        "1. Clean the text (remove punctuation, lowercase).\n",
        "2. Split the text by spaces into a list of words.\n",
        "3. Count the number of words in the list."
      ],
      "metadata": {
        "id": "-DanUWDBevkA"
      }
    },
    {
      "cell_type": "code",
      "source": [
        "def count_words(text):\n",
        "  words = clean_text(text).split()\n",
        "\n",
        "  return len(words)"
      ],
      "metadata": {
        "id": "-QFUQ-43eyyH"
      },
      "execution_count": 106,
      "outputs": []
    },
    {
      "cell_type": "code",
      "source": [
        "count_words(sample_text)"
      ],
      "metadata": {
        "colab": {
          "base_uri": "https://localhost:8080/"
        },
        "id": "bs5_3H2Or1B-",
        "outputId": "37f979c4-2f82-4310-afb2-2e69576da570"
      },
      "execution_count": 107,
      "outputs": [
        {
          "output_type": "execute_result",
          "data": {
            "text/plain": [
              "56"
            ]
          },
          "metadata": {},
          "execution_count": 107
        }
      ]
    },
    {
      "cell_type": "markdown",
      "source": [
        "### **6.3 Counting Sentences (`count_sentences`)** <a class=\"anchor\" id=\"6.3\"></a>\n",
        "\n",
        "1. Initialize an empty list `sentences`.\n",
        "2. Traverse each character `char` in the text.\n",
        "3. Add characters to a temporary string `temp`.\n",
        "4. If a character is `.`, `!`, or `?`, save `temp` as a sentence and reset it.\n",
        "5. Return the total number of sentences."
      ],
      "metadata": {
        "id": "SsqZCjIoiGcd"
      }
    },
    {
      "cell_type": "code",
      "source": [
        "def count_sentences(text):\n",
        "  sentences = []\n",
        "  temp = \"\"\n",
        "\n",
        "  for char in text:\n",
        "    temp += char\n",
        "    if char in \".!?\":\n",
        "      sentences.append(temp.strip())\n",
        "      temp = \"\"\n",
        "\n",
        "  if temp.strip():\n",
        "    sentences.append(temp.strip())\n",
        "\n",
        "  return len(sentences)"
      ],
      "metadata": {
        "id": "RPtiU-0piOZb"
      },
      "execution_count": 108,
      "outputs": []
    },
    {
      "cell_type": "code",
      "source": [
        "count_sentences(sample_text)"
      ],
      "metadata": {
        "colab": {
          "base_uri": "https://localhost:8080/"
        },
        "id": "3cOIznH_tXg9",
        "outputId": "5edbee8b-129a-4e7a-8f73-a3fde6f219fe"
      },
      "execution_count": 109,
      "outputs": [
        {
          "output_type": "execute_result",
          "data": {
            "text/plain": [
              "6"
            ]
          },
          "metadata": {},
          "execution_count": 109
        }
      ]
    },
    {
      "cell_type": "markdown",
      "source": [
        "### **6.4 Counting Paragraphs (`count_paragraphs`)** <a class=\"anchor\" id=\"6.4\"></a>\n",
        "\n",
        "1. Remove leading and trailing whitespace.\n",
        "2. Split the text by two consecutive newlines (`\\n\\n`).\n",
        "3. Count non-empty paragraphs."
      ],
      "metadata": {
        "id": "HbWi5XOTio44"
      }
    },
    {
      "cell_type": "code",
      "source": [
        "def count_paragraphs(text):\n",
        "  paragraphs = []\n",
        "\n",
        "  for p in text.strip().split(\"\\n\\n\"):\n",
        "    if p.strip():\n",
        "      paragraphs.append(p)\n",
        "\n",
        "  return len(paragraphs)"
      ],
      "metadata": {
        "id": "Dfw59c50iz2W"
      },
      "execution_count": 110,
      "outputs": []
    },
    {
      "cell_type": "code",
      "source": [
        "count_paragraphs(sample_text)"
      ],
      "metadata": {
        "colab": {
          "base_uri": "https://localhost:8080/"
        },
        "id": "qLhofg23uk39",
        "outputId": "69da3c19-7cf2-4d6e-b129-df49ca348d3c"
      },
      "execution_count": 111,
      "outputs": [
        {
          "output_type": "execute_result",
          "data": {
            "text/plain": [
              "2"
            ]
          },
          "metadata": {},
          "execution_count": 111
        }
      ]
    },
    {
      "cell_type": "markdown",
      "source": [
        "### **6.5 Most Common Word (`most_common_word`)** <a class=\"anchor\" id=\"6.5\"></a>\n",
        "\n",
        "1. Clean the text and split into words.\n",
        "2. Use a dictionary `freq` to count each word’s occurrences.\n",
        "3. Loop through dictionary items to find the word with the highest count.\n",
        "4. Return the word and its count."
      ],
      "metadata": {
        "id": "R-3Rko4oi6Qv"
      }
    },
    {
      "cell_type": "code",
      "source": [
        "def most_common_word(text):\n",
        "  words = clean_text(text).split()\n",
        "  freq = {}\n",
        "\n",
        "  for word in words:\n",
        "    freq[word] = freq.get(word, 0) + 1\n",
        "\n",
        "  max_word = None\n",
        "  max_count = 0\n",
        "\n",
        "  for word, count in freq.items():\n",
        "    if count > max_count:\n",
        "      max_word, max_count = word, count\n",
        "\n",
        "  return max_word, max_count"
      ],
      "metadata": {
        "id": "w1TtR4KKjO8p"
      },
      "execution_count": 112,
      "outputs": []
    },
    {
      "cell_type": "code",
      "source": [
        "most_common_word(sample_text)"
      ],
      "metadata": {
        "colab": {
          "base_uri": "https://localhost:8080/"
        },
        "id": "xvv1Nxb7wMnK",
        "outputId": "90763fd8-1313-4ecc-d86e-411650538b94"
      },
      "execution_count": 113,
      "outputs": [
        {
          "output_type": "execute_result",
          "data": {
            "text/plain": [
              "('and', 5)"
            ]
          },
          "metadata": {},
          "execution_count": 113
        }
      ]
    },
    {
      "cell_type": "markdown",
      "source": [
        "### **6.6 Average Word Length (`average_word_length`)** <a class=\"anchor\" id=\"6.6\"></a>\n",
        "\n",
        "1. Clean the text and split into words.\n",
        "2. Count total letters across all words.\n",
        "3. Divide total letters by total words.\n",
        "4. Round the result to 1 decimal place.\n",
        "\n",
        "***Mathematically...***\n",
        "\n",
        "If $W = \\{w_1, w_2, ..., w_n\\}$ and $|w_i|$ is the length of each word:\n",
        "\n",
        "$$\n",
        "\\text{Average Word Length} = \\frac{\\sum_{i=1}^{n} {|w_i|}}{n}\n",
        "$$"
      ],
      "metadata": {
        "id": "KUTsit3xk8xV"
      }
    },
    {
      "cell_type": "code",
      "source": [
        "def average_word_length(text):\n",
        "  words = clean_text(text).split()\n",
        "\n",
        "  if not words:\n",
        "    return 0\n",
        "\n",
        "  total_length = 0\n",
        "\n",
        "  for word in words:\n",
        "    total_length += len(word)\n",
        "\n",
        "  return round(total_length / len(words), 1)"
      ],
      "metadata": {
        "id": "aL1k_GNelGaS"
      },
      "execution_count": 114,
      "outputs": []
    },
    {
      "cell_type": "code",
      "source": [
        "average_word_length(sample_text)"
      ],
      "metadata": {
        "colab": {
          "base_uri": "https://localhost:8080/"
        },
        "id": "b_mzaWHLxe3e",
        "outputId": "3b5dd1bb-5d7e-4c04-b679-1fd1019f0163"
      },
      "execution_count": 115,
      "outputs": [
        {
          "output_type": "execute_result",
          "data": {
            "text/plain": [
              "6.8"
            ]
          },
          "metadata": {},
          "execution_count": 115
        }
      ]
    },
    {
      "cell_type": "markdown",
      "source": [
        "### **6.7 Finding Long Words (`find_long_words`)** <a class=\"anchor\" id=\"6.7\"></a>\n",
        "\n",
        "1. Clean the text and split into words.\n",
        "2. For each word, check if its length is greater than `min_length`.\n",
        "3. If yes, add it to the list if not already included.\n",
        "4. Sort the final list alphabetically."
      ],
      "metadata": {
        "id": "UUHPKmJ7lRVQ"
      }
    },
    {
      "cell_type": "code",
      "source": [
        "def find_long_words(text, min_length):\n",
        "  words = clean_text(text).split()\n",
        "  long_words = []\n",
        "\n",
        "  for word in words:\n",
        "    if len(word) > min_length and word not in long_words:\n",
        "      long_words.append(word)\n",
        "\n",
        "  return sorted(long_words)"
      ],
      "metadata": {
        "id": "O-nbQfXHlZRK"
      },
      "execution_count": 116,
      "outputs": []
    },
    {
      "cell_type": "code",
      "source": [
        "find_long_words(sample_text, 8)"
      ],
      "metadata": {
        "colab": {
          "base_uri": "https://localhost:8080/"
        },
        "id": "plJS6TL60rB6",
        "outputId": "7a75bfc6-3369-4fa8-a751-9b60362a4b56"
      },
      "execution_count": 117,
      "outputs": [
        {
          "output_type": "execute_result",
          "data": {
            "text/plain": [
              "['artificial',\n",
              " 'automation',\n",
              " 'developers',\n",
              " 'development',\n",
              " 'emphasizes',\n",
              " 'extensive',\n",
              " 'frameworks',\n",
              " 'functional',\n",
              " 'highlevel',\n",
              " 'including',\n",
              " 'intelligence',\n",
              " 'libraries',\n",
              " 'objectoriented',\n",
              " 'paradigms',\n",
              " 'philosophy',\n",
              " 'procedural',\n",
              " 'programming',\n",
              " 'readability',\n",
              " 'simplicity']"
            ]
          },
          "metadata": {},
          "execution_count": 117
        }
      ]
    },
    {
      "cell_type": "markdown",
      "source": [
        "## **7. Generate Final Text Analysis Report** <a class=\"anchor\" id=\"7\"></a>"
      ],
      "metadata": {
        "id": "IT0FFTAcmA7Z"
      }
    },
    {
      "cell_type": "code",
      "source": [
        "#################\n",
        "# Collect results\n",
        "#################\n",
        "\n",
        "total_words = count_words(sample_text)\n",
        "total_sentences = count_sentences(sample_text)\n",
        "total_paragraphs = count_paragraphs(sample_text)\n",
        "common_word, freq = most_common_word(sample_text)\n",
        "avg_length = average_word_length(sample_text)\n",
        "long_words = find_long_words(sample_text, 8)\n",
        "\n",
        "print(\"=== TEXT ANALYSIS REPORT ===\")\n",
        "print(f\"Total Words: {total_words}\")\n",
        "print(f\"Total Sentences: {total_sentences}\")\n",
        "print(f\"Total Paragraphs: {total_paragraphs}\")\n",
        "print(f'Most Common Word: \"{common_word}\" (appears {freq} times)')\n",
        "print(f\"Average Word Length: {avg_length} characters\")\n",
        "print(f\"Words longer than 8 characters: {long_words}\")"
      ],
      "metadata": {
        "colab": {
          "base_uri": "https://localhost:8080/"
        },
        "id": "KFu7T1sYl9v0",
        "outputId": "69765cd6-ee0f-4f66-c4e1-0dc4de49de22"
      },
      "execution_count": 120,
      "outputs": [
        {
          "output_type": "stream",
          "name": "stdout",
          "text": [
            "=== TEXT ANALYSIS REPORT ===\n",
            "Total Words: 56\n",
            "Total Sentences: 6\n",
            "Total Paragraphs: 2\n",
            "Most Common Word: \"and\" (appears 5 times)\n",
            "Average Word Length: 6.8 characters\n",
            "Words longer than 8 characters: ['artificial', 'automation', 'developers', 'development', 'emphasizes', 'extensive', 'frameworks', 'functional', 'highlevel', 'including', 'intelligence', 'libraries', 'objectoriented', 'paradigms', 'philosophy', 'procedural', 'programming', 'readability', 'simplicity']\n"
          ]
        }
      ]
    }
  ]
}