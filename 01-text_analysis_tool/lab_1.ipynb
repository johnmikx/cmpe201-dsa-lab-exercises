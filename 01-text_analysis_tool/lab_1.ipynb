{
 "cells": [
  {
   "cell_type": "markdown",
   "id": "c941ce37",
   "metadata": {},
   "source": [
    "## Subject: Data Structure and Algorithm\n",
    "\n",
    "Lab Activity: Python review\n",
    "\n",
    "Deadline: Sept 20, 11:59pm\n",
    "\n",
    "https://docs.google.com/forms/d/e/1FAIpQLSdoc8mZxIanXUEOF_j5-1C1NCB9Makd-yTV2_WH_wROIVBOrQ/viewform?usp=pp_url\n"
   ]
  },
  {
   "cell_type": "markdown",
   "id": "b15d85d7",
   "metadata": {},
   "source": [
    "## Exercise 1: Text Analysis Tool\n",
    "**Objective:** Practice string manipulation, loops, conditional statements, and functions\n",
    "\n",
    "### Problem Description\n",
    "Create a text analysis tool that can analyze a given text and provide various statistics.\n",
    "\n",
    "### Requirements\n",
    "1. Create functions to analyze a text string:\n",
    "   - `count_words(text)`: Count total number of words\n",
    "   - `count_sentences(text)`: Count sentences (assume sentences end with '.', '!', or '?')\n",
    "   - `count_paragraphs(text)`: Count paragraphs (separated by double newlines)\n",
    "   - `most_common_word(text)`: Find the most frequently used word (ignore case)\n",
    "   - `average_word_length(text)`: Calculate average length of words\n",
    "   - `find_long_words(text, min_length)`: Find all words longer than specified length\n",
    "\n",
    "2. Clean the text by removing punctuation when counting words\n",
    "3. Handle case sensitivity appropriately\n",
    "\n",
    "### Sample Text\n",
    "\n",
    "```\n",
    "Python is a high-level programming language. It is known for its simplicity and readability.\n",
    "Python supports multiple programming paradigms including procedural, object-oriented, and functional programming.\n",
    "\n",
    "Many developers choose Python for its extensive libraries and frameworks. \n",
    "The language is widely used in web development, data science, artificial intelligence, and automation.\n",
    "Python's philosophy emphasizes code readability and simplicity!\n",
    "```\n",
    "\n",
    "### Expected Output Format\n",
    "\n",
    "```\n",
    "=== TEXT ANALYSIS REPORT ===\n",
    "Total Words: 56\n",
    "Total Sentences: 6\n",
    "Total Paragraphs: 2\n",
    "Most Common Word: \"python\" (appears 4 times)\n",
    "Average Word Length: 6.2 characters\n",
    "Words longer than 8 characters: ['programming', 'language', 'simplicity', 'readability', ...]\n",
    "```\n"
   ]
  },
  {
   "cell_type": "code",
   "execution_count": null,
   "id": "087ba4a0",
   "metadata": {},
   "outputs": [],
   "source": [
    "#your code"
   ]
  }
 ],
 "metadata": {
  "kernelspec": {
   "display_name": "Python 3",
   "language": "python",
   "name": "python3"
  },
  "language_info": {
   "name": "python",
   "version": "3.10.17"
  }
 },
 "nbformat": 4,
 "nbformat_minor": 5
}
