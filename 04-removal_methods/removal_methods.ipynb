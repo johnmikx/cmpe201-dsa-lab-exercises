{
  "nbformat": 4,
  "nbformat_minor": 0,
  "metadata": {
    "colab": {
      "provenance": [],
      "toc_visible": true
    },
    "kernelspec": {
      "name": "python3",
      "display_name": "Python 3"
    },
    "language_info": {
      "name": "python"
    }
  },
  "cells": [
    {
      "cell_type": "markdown",
      "source": [
        "***\n",
        "# **Exercise 4: Linked List - Removal Methods**"
      ],
      "metadata": {
        "id": "9bdW8i3yFwWp"
      }
    },
    {
      "cell_type": "markdown",
      "source": [
        "***\n",
        "### [**John Mike Asuncion**](https://github.com/johnmikx)\n",
        "![BSCPE 2–2](https://img.shields.io/badge/BSCPE_2–2-18BCF2?style=for-the-badge&logo=Home%20Assistant&logoColor=white)\n",
        "![CMPE 201 DSA](https://img.shields.io/badge/[CMPE_201]_Data_Structures_and_Algorithms-FF3621?style=for-the-badge&logo=Databricks&logoColor=white)\n",
        "\n",
        "#### **Professor: Engr. Godofredo T. Avena**\n",
        "##### *October 17, 2025*\n",
        "***"
      ],
      "metadata": {
        "id": "Y3kfDVPtZ0WG"
      }
    },
    {
      "cell_type": "markdown",
      "source": [
        "## **Table of Contents**\n",
        "\n",
        "* [**1. Implementation (Node + LinkedList)**](#1)\n",
        "* [**2. Methods Added**](#2)\n",
        "  * [2.a. remove_beginning(self)](#2a)\n",
        "  * [2.b. remove_at_end(self)](#2b)\n",
        "  * [2.c. remove_at(self, data)](#2c)\n",
        "* [**3. Full Class**](#3)\n",
        "* [**4. Example Usage & Tests**](#4)\n",
        "* [**5. Expected Terminal Output**](#5)\n",
        "***"
      ],
      "metadata": {
        "id": "p7UTUP8yZ2Hn"
      }
    },
    {
      "cell_type": "markdown",
      "source": [
        "## **1. Implementation (Node + LinkedList)**  <a class=\"anchor\" id=\"1\"></a>"
      ],
      "metadata": {
        "id": "0hhicTVcbpvM"
      }
    },
    {
      "cell_type": "code",
      "source": [
        "####################################\n",
        "# Node and LinkedList implementation\n",
        "# with required remove methods\n",
        "####################################\n",
        "\n",
        "class Node:\n",
        "    \"\"\"Simple node for a singly linked list.\"\"\"\n",
        "    def __init__(self, data):\n",
        "        self.data = data\n",
        "        self.next = None\n",
        "\n",
        "class LinkedList:\n",
        "    \"\"\"Singly linked list with append, to_list and removal methods.\"\"\"\n",
        "    def __init__(self):\n",
        "        self.head = None\n",
        "\n",
        "    def append(self, data):\n",
        "        \"\"\"Add data at the end of the list.\"\"\"\n",
        "        new_node = Node(data)\n",
        "        if not self.head:\n",
        "            self.head = new_node\n",
        "            return\n",
        "        cur = self.head\n",
        "        while cur.next:\n",
        "            cur = cur.next\n",
        "        cur.next = new_node\n",
        "\n",
        "    def to_list(self):\n",
        "        \"\"\"Return Python list of all node data (for easy viewing).\"\"\"\n",
        "        out = []\n",
        "        cur = self.head\n",
        "        while cur:\n",
        "            out.append(cur.data)\n",
        "            cur = cur.next\n",
        "        return out"
      ],
      "metadata": {
        "id": "VGWJn3bMf5qC"
      },
      "execution_count": 19,
      "outputs": []
    },
    {
      "cell_type": "markdown",
      "source": [
        "## **2. Methods Added**  <a class=\"anchor\" id=\"2\"></a>"
      ],
      "metadata": {
        "id": "-4mlIT1lb2Nn"
      }
    },
    {
      "cell_type": "markdown",
      "source": [
        "### **2.a. remove_beginning(self)**  <a class=\"anchor\" id=\"2a\"></a>"
      ],
      "metadata": {
        "id": "if7y2hKCcMK1"
      }
    },
    {
      "cell_type": "code",
      "source": [
        "###############################\n",
        "# Remove node at the beginning.\n",
        "# Returns the removed data,\n",
        "# or None if list is empty.\n",
        "###############################\n",
        "\n",
        "def remove_beginning(self):\n",
        "  if not self.head:\n",
        "    return None\n",
        "  removed_data = self.head.data\n",
        "  self.head = self.head.next\n",
        "  return removed_data"
      ],
      "metadata": {
        "id": "AjKtT4cIfUl8"
      },
      "execution_count": 20,
      "outputs": []
    },
    {
      "cell_type": "markdown",
      "source": [
        "### **2.b. remove_at_end(self)**  <a class=\"anchor\" id=\"2b\"></a>"
      ],
      "metadata": {
        "id": "FBW523M9b_7L"
      }
    },
    {
      "cell_type": "code",
      "source": [
        "###########################\n",
        "# Remove node at the end.\n",
        "# Returns the removed data,\n",
        "# or None if list is empty.\n",
        "###########################\n",
        "\n",
        "def remove_at_end(self):\n",
        "  if not self.head:\n",
        "    return None\n",
        "\n",
        "  # Single element\n",
        "  if not self.head.next:\n",
        "    removed_data = self.head.data\n",
        "    self.head = None\n",
        "    return removed_data\n",
        "\n",
        "  # More than one element\n",
        "  prev = None\n",
        "  cur = self.head\n",
        "  while cur.next:\n",
        "    prev = cur\n",
        "    cur = cur.next\n",
        "\n",
        "  # cur is last node, prev is node before last\n",
        "  prev.next = None\n",
        "  return cur.data"
      ],
      "metadata": {
        "id": "zrb3UzNEfR0e"
      },
      "execution_count": 23,
      "outputs": []
    },
    {
      "cell_type": "markdown",
      "source": [
        "### **2.c. remove_at(self, data)**  <a class=\"anchor\" id=\"2c\"></a>"
      ],
      "metadata": {
        "id": "83VpqWqLcbwA"
      }
    },
    {
      "cell_type": "code",
      "source": [
        "#################################################\n",
        "# Remove the first node that contains `data`.\n",
        "# Returns the removed data, or None if not found.\n",
        "#################################################\n",
        "\n",
        "def remove_at(self, data):\n",
        "  if not self.head:\n",
        "    return None\n",
        "\n",
        "  # If head is the node to remove\n",
        "  if self.head.data == data:\n",
        "    removed = self.head.data\n",
        "    self.head = self.head.next\n",
        "    return removed\n",
        "\n",
        "  prev = self.head\n",
        "  cur = self.head.next\n",
        "  while cur:\n",
        "    if cur.data == data:\n",
        "      # remove cur\n",
        "      prev.next = cur.next\n",
        "      return cur.data\n",
        "    prev = cur\n",
        "    cur = cur.next\n",
        "\n",
        "  # not found\n",
        "  return None"
      ],
      "metadata": {
        "id": "2ZvJPSfWfPDI"
      },
      "execution_count": 28,
      "outputs": []
    },
    {
      "cell_type": "markdown",
      "source": [
        "## **3. Full Class**  <a class=\"anchor\" id=\"3\"></a>"
      ],
      "metadata": {
        "id": "phrlZk5ldI94"
      }
    },
    {
      "cell_type": "code",
      "source": [
        "class Node:\n",
        "    def __init__(self, data):\n",
        "        self.data = data\n",
        "        self.next = None\n",
        "\n",
        "class LinkedList:\n",
        "    def __init__(self):\n",
        "        self.head = None\n",
        "\n",
        "    def append(self, data):\n",
        "        new_node = Node(data)\n",
        "        if not self.head:\n",
        "            self.head = new_node\n",
        "            return\n",
        "        cur = self.head\n",
        "        while cur.next:\n",
        "            cur = cur.next\n",
        "        cur.next = new_node\n",
        "\n",
        "    def to_list(self):\n",
        "        out = []\n",
        "        cur = self.head\n",
        "        while cur:\n",
        "            out.append(cur.data)\n",
        "            cur = cur.next\n",
        "        return out\n",
        "\n",
        "    def remove_beginning(self):\n",
        "        if not self.head:\n",
        "            return None\n",
        "        removed_data = self.head.data\n",
        "        self.head = self.head.next\n",
        "        return removed_data\n",
        "\n",
        "    def remove_at_end(self):\n",
        "        if not self.head:\n",
        "            return None\n",
        "        if not self.head.next:\n",
        "            removed_data = self.head.data\n",
        "            self.head = None\n",
        "            return removed_data\n",
        "        prev = None\n",
        "        cur = self.head\n",
        "        while cur.next:\n",
        "            prev = cur\n",
        "            cur = cur.next\n",
        "        prev.next = None\n",
        "        return cur.data\n",
        "\n",
        "    def remove_at(self, data):\n",
        "        if not self.head:\n",
        "            return None\n",
        "        if self.head.data == data:\n",
        "            removed = self.head.data\n",
        "            self.head = self.head.next\n",
        "            return removed\n",
        "        prev = self.head\n",
        "        cur = self.head.next\n",
        "        while cur:\n",
        "            if cur.data == data:\n",
        "                prev.next = cur.next\n",
        "                return cur.data\n",
        "            prev = cur\n",
        "            cur = cur.next\n",
        "        return None"
      ],
      "metadata": {
        "id": "X6pXk_T_dH6R"
      },
      "execution_count": 31,
      "outputs": []
    },
    {
      "cell_type": "markdown",
      "source": [
        "## **4. Example Usage & Tests**  <a class=\"anchor\" id=\"4\"></a>"
      ],
      "metadata": {
        "id": "i2kYnsxQdLBQ"
      }
    },
    {
      "cell_type": "code",
      "source": [
        "# create list and append some items\n",
        "lst = LinkedList()\n",
        "for val in [10, 20, 30, 40]:\n",
        "    lst.append(val)\n",
        "\n",
        "print(\"Initial list:\", lst.to_list())\n",
        "\n",
        "# remove from beginning\n",
        "rb = lst.remove_beginning()\n",
        "print(\"Removed from beginning:\", rb)\n",
        "print(\"After remove_beginning:\", lst.to_list())\n",
        "\n",
        "# remove from end\n",
        "re = lst.remove_at_end()\n",
        "print(\"Removed at end:\", re)\n",
        "print(\"After remove_at_end:\", lst.to_list())\n",
        "\n",
        "# remove a middle value\n",
        "ra = lst.remove_at(30)\n",
        "print(\"Removed at (30):\", ra)\n",
        "print(\"After remove_at(30):\", lst.to_list())\n",
        "\n",
        "# try to remove non-existing value\n",
        "rno = lst.remove_at(99)\n",
        "print(\"Removed at (99):\", rno)\n",
        "print(\"After remove_at(99):\", lst.to_list())\n",
        "\n",
        "# edge cases: single-element list then remove_end\n",
        "single = LinkedList()\n",
        "single.append('only')\n",
        "print(\"Single before:\", single.to_list())\n",
        "single_removed_begin = single.remove_beginning()\n",
        "print(\"remove_beginning on single:\", single_removed_begin)\n",
        "print(\"Single after remove_beginning:\", single.to_list())\n",
        "single.append('new')\n",
        "print(\"Single after append new:\", single.to_list())\n",
        "single_removed_end = single.remove_at_end()\n",
        "print(\"remove_at_end on single:\", single_removed_end)\n",
        "print(\"Single after remove_at_end:\", single.to_list())\n",
        "\n",
        "# empty list removals\n",
        "empty = LinkedList()\n",
        "print(\"remove_beginning on empty:\", empty.remove_beginning())\n",
        "print(\"remove_at_end on empty:\", empty.remove_at_end())\n",
        "print(\"remove_at(5) on empty:\", empty.remove_at(5))"
      ],
      "metadata": {
        "colab": {
          "base_uri": "https://localhost:8080/"
        },
        "id": "5Fz270JEdNl4",
        "outputId": "30e08ea0-3ec8-45ab-d801-ecd7fcd2e919"
      },
      "execution_count": 32,
      "outputs": [
        {
          "output_type": "stream",
          "name": "stdout",
          "text": [
            "Initial list: [10, 20, 30, 40]\n",
            "Removed from beginning: 10\n",
            "After remove_beginning: [20, 30, 40]\n",
            "Removed at end: 40\n",
            "After remove_at_end: [20, 30]\n",
            "Removed at (30): 30\n",
            "After remove_at(30): [20]\n",
            "Removed at (99): None\n",
            "After remove_at(99): [20]\n",
            "Single before: ['only']\n",
            "remove_beginning on single: only\n",
            "Single after remove_beginning: []\n",
            "Single after append new: ['new']\n",
            "remove_at_end on single: new\n",
            "Single after remove_at_end: []\n",
            "remove_beginning on empty: None\n",
            "remove_at_end on empty: None\n",
            "remove_at(5) on empty: None\n"
          ]
        }
      ]
    },
    {
      "cell_type": "markdown",
      "source": [
        "## **5. Expected Terminal Output**  <a class=\"anchor\" id=\"5\"></a>\n",
        "\n",
        "```\n",
        "Initial list: [10, 20, 30, 40]\n",
        "Removed from beginning: 10\n",
        "After remove_beginning: [20, 30, 40]\n",
        "Removed at end: 40\n",
        "After remove_at_end: [20, 30]\n",
        "Removed at (30): 30\n",
        "After remove_at(30): [20]\n",
        "Removed at (99): None\n",
        "After remove_at(99): [20]\n",
        "Single before: ['only']\n",
        "remove_beginning on single: only\n",
        "Single after remove_beginning: []\n",
        "Single after append new: ['new']\n",
        "remove_at_end on single: new\n",
        "Single after remove_at_end: []\n",
        "remove_beginning on empty: None\n",
        "remove_at_end on empty: None\n",
        "remove_at(5) on empty: None\n",
        "```"
      ],
      "metadata": {
        "id": "1YL4o0TWdN9s"
      }
    }
  ]
}