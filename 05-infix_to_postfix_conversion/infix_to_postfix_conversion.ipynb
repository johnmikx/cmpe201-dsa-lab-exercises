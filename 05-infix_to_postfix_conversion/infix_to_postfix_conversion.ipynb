{
  "nbformat": 4,
  "nbformat_minor": 0,
  "metadata": {
    "colab": {
      "provenance": [],
      "toc_visible": true
    },
    "kernelspec": {
      "name": "python3",
      "display_name": "Python 3"
    },
    "language_info": {
      "name": "python"
    }
  },
  "cells": [
    {
      "cell_type": "markdown",
      "source": [
        "***\n",
        "# **Exercise 5: Stack Application - Conversion from Infix to Postfix**"
      ],
      "metadata": {
        "id": "g2C8ihJe5onw"
      }
    },
    {
      "cell_type": "markdown",
      "source": [
        "***\n",
        "### [**John Mike Asuncion**](https://github.com/johnmikx)\n",
        "![BSCPE 2–2](https://img.shields.io/badge/BSCPE_2–2-18BCF2?style=for-the-badge&logo=Home%20Assistant&logoColor=white)\n",
        "![CMPE 201 DSA](https://img.shields.io/badge/[CMPE_201]_Data_Structures_and_Algorithms-FF3621?style=for-the-badge&logo=Databricks&logoColor=white)\n",
        "\n",
        "#### **Professor: Engr. Godofredo T. Avena**\n",
        "##### *October 22, 2025*\n",
        "***"
      ],
      "metadata": {
        "id": "MA6v_mCM5ok1"
      }
    },
    {
      "cell_type": "markdown",
      "source": [
        "## **Table of Contents**\n",
        "\n",
        "* [**1. Objective & Notes**](#1)\n",
        "* [**2. Key Algorithm Idea**](#2)\n",
        "* [**3. Stack Template (Node + Stack)**](#3)\n",
        "* [**4. Infix to Postfix Conversion**](#3)\n",
        "* [**5. Examples & Expected Outputs**](#3)\n",
        "***"
      ],
      "metadata": {
        "id": "a_KRZQbZ5oi2"
      }
    },
    {
      "cell_type": "markdown",
      "source": [
        "## **1. Objective & Notes**  <a class=\"anchor\" id=\"1\"></a>\n",
        "\n",
        "**Objective**: convert infix expressions to postfix expressions observing operator precedence and parentheses. Use a stack to temporarily hold operators.\n",
        "\n",
        "**Notes**:\n",
        "\n",
        "- Operator precedence: `^` (right assoc) > `*` `/` (left) > `+` `-` (left).\n",
        "- The `Stack` class from the provided `stack_template.py` is used as-is (pushed/pop/peek)."
      ],
      "metadata": {
        "id": "zGWbIqMx5ogl"
      }
    },
    {
      "cell_type": "markdown",
      "source": [
        "## **2. Key Algorithm Idea**  <a class=\"anchor\" id=\"2\"></a>\n",
        "\n",
        "Walk the expression token by token:\n",
        "\n",
        "* If token is operand → append to output.\n",
        "* If token is `'('` → push to stack.\n",
        "* If token is `')'` → pop operators to output until `'('`.\n",
        "* If token is operator → pop from stack to output while top of stack has operator with **higher precedence** (or equal precedence and operator is **left-associative**). Then push current operator.\n",
        "* After reading input, pop remaining operators to output.\n",
        "\n",
        "Refer to `lab_5.md` for examples and precedence rules."
      ],
      "metadata": {
        "id": "5UtxAKUX5oQP"
      }
    },
    {
      "cell_type": "markdown",
      "source": [
        "## **3. Stack Template (Node + Stack)**  <a class=\"anchor\" id=\"3\"></a>"
      ],
      "metadata": {
        "id": "nElZO-im9Uux"
      }
    },
    {
      "cell_type": "code",
      "source": [
        "##########################\n",
        "# This `stack_template.py`\n",
        "# provided by our prof.\n",
        "##########################\n",
        "\n",
        "class Node:\n",
        "    def __init__(self, data):\n",
        "        self.data = data\n",
        "        self.next = None\n",
        "\n",
        "\n",
        "class Stack:\n",
        "    def __init__(self):\n",
        "        self.top = None\n",
        "\n",
        "    def push(self, data):\n",
        "        new_node = Node(data)\n",
        "        if self.top:\n",
        "            new_node.next = self.top\n",
        "        self.top = new_node\n",
        "\n",
        "    def pop(self):\n",
        "        if self.top is None:\n",
        "            return None\n",
        "        else:\n",
        "            popped_node = self.top\n",
        "            self.top = self.top.next\n",
        "            popped_node.next = None\n",
        "            return popped_node.data\n",
        "\n",
        "    def peek(self):\n",
        "        if self.top:\n",
        "            return self.top.data\n",
        "        else:\n",
        "            return None\n",
        "\n",
        "    def is_empty(self):\n",
        "        return self.top is None\n",
        "\n",
        "    def print_stack(self):\n",
        "        if self.top is None:\n",
        "            print(\"Stack is empty\")\n",
        "        else:\n",
        "            current = self.top\n",
        "            print(\"Stack elements (top → bottom):\")\n",
        "            while current:\n",
        "                print(current.data)\n",
        "                current = current.next"
      ],
      "metadata": {
        "id": "dkSGyNmH-Xkr"
      },
      "execution_count": 36,
      "outputs": []
    },
    {
      "cell_type": "markdown",
      "source": [
        "## **4. Infix to Postfix Conversion**  <a class=\"anchor\" id=\"4\"></a>"
      ],
      "metadata": {
        "id": "GlUlsmP_9UiA"
      }
    },
    {
      "cell_type": "code",
      "source": [
        "#####################################\n",
        "# This is infix to postfix conversion\n",
        "# using the Stack above.\n",
        "#####################################\n",
        "\n",
        "def is_operand(ch):\n",
        "    \"\"\"Return True if ch is an operand (letter or digit).\"\"\"\n",
        "    return ch.isalnum()  # letters and digits\n",
        "\n",
        "def precedence(op):\n",
        "    \"\"\"Return precedence number: higher means higher precedence.\"\"\"\n",
        "    if op == '^':\n",
        "        return 3\n",
        "    if op in ('*', '/'):\n",
        "        return 2\n",
        "    if op in ('+', '-'):\n",
        "        return 1\n",
        "    return 0\n",
        "\n",
        "def is_right_associative(op):\n",
        "    \"\"\"'^' is right associative; others considered left by default.\"\"\"\n",
        "    return op == '^'\n",
        "\n",
        "def infix_to_postfix(expr):\n",
        "    \"\"\"\n",
        "    Convert an infix expression (string) into a postfix expression (string).\n",
        "    Assumptions:\n",
        "    - Tokens can be single-letter operands or digits (e.g., A, B, 1, 2).\n",
        "    - Operators: +, -, *, /, ^\n",
        "    - Parentheses: (, )\n",
        "    - Spaces are allowed and ignored (we'll split by characters but skip spaces).\n",
        "    \"\"\"\n",
        "    ops = Stack()\n",
        "    output_tokens = []\n",
        "\n",
        "    # Iterate through characters (skip spaces)\n",
        "    for ch in expr:\n",
        "        if ch == ' ':\n",
        "            continue\n",
        "        if is_operand(ch):\n",
        "            # operand -> output\n",
        "            output_tokens.append(ch)\n",
        "        elif ch == '(':\n",
        "            ops.push(ch)\n",
        "        elif ch == ')':\n",
        "            # pop until '(' or stack empty\n",
        "            while not ops.is_empty() and ops.peek() != '(':\n",
        "                output_tokens.append(ops.pop())\n",
        "            # pop the '(' itself\n",
        "            if not ops.is_empty() and ops.peek() == '(':\n",
        "                ops.pop()\n",
        "            else:\n",
        "                # mismatched parenthesis, ignore for now\n",
        "                pass\n",
        "        else:\n",
        "            # operator\n",
        "            # pop while top of stack has operator with higher prec\n",
        "            # or equal prec and current op is left-associative\n",
        "            while (not ops.is_empty() and ops.peek() != '(' and\n",
        "                   ((not is_right_associative(ch) and precedence(ops.peek()) >= precedence(ch))\n",
        "                    or (is_right_associative(ch) and precedence(ops.peek()) > precedence(ch)))):\n",
        "                output_tokens.append(ops.pop())\n",
        "            ops.push(ch)\n",
        "\n",
        "    # pop remaining operators\n",
        "    while not ops.is_empty():\n",
        "        top = ops.pop()\n",
        "        if top in ('(', ')'):\n",
        "            # skip any stray parentheses\n",
        "            continue\n",
        "        output_tokens.append(top)\n",
        "\n",
        "    # Return space-separated tokens as conventional postfix\n",
        "    return ' '.join(output_tokens)"
      ],
      "metadata": {
        "id": "mywXtHX3-8nK"
      },
      "execution_count": 43,
      "outputs": []
    },
    {
      "cell_type": "markdown",
      "source": [
        "## **5. Examples & Expected Outputs**  <a class=\"anchor\" id=\"5\"></a>"
      ],
      "metadata": {
        "id": "IngFHJia9nXQ"
      }
    },
    {
      "cell_type": "code",
      "source": [
        "examples = [\n",
        "    (\"(A+B+C)*D\", \"expected: A B + C + D *   (note: depends on token grouping)\"),\n",
        "    (\"A * (B + C) / D\", \"expected: A B C + * D /\"),\n",
        "    (\"(A * (B + C))\", \"expected: A B C + *\"),\n",
        "    # Additional example from the instructions (explicit walk-through)\n",
        "    (\"A*(B+C)/D\", \"expected: A B C + * D /\")\n",
        "]\n",
        "\n",
        "for expr, note in examples:\n",
        "    postfix = infix_to_postfix(expr)\n",
        "    print(f\"Infix: {expr}\")\n",
        "    print(\"Postfix:\", postfix)\n",
        "    print(\"->\", note)\n",
        "    print()"
      ],
      "metadata": {
        "colab": {
          "base_uri": "https://localhost:8080/"
        },
        "id": "Hq16y6xL_b3d",
        "outputId": "cce87076-c913-4a13-c81e-bd496c553036"
      },
      "execution_count": 51,
      "outputs": [
        {
          "output_type": "stream",
          "name": "stdout",
          "text": [
            "Infix: (A+B+C)*D\n",
            "Postfix: A B + C + D *\n",
            "-> expected: A B + C + D *   (note: depends on token grouping)\n",
            "\n",
            "Infix: A * (B + C) / D\n",
            "Postfix: A B C + * D /\n",
            "-> expected: A B C + * D /\n",
            "\n",
            "Infix: (A * (B + C))\n",
            "Postfix: A B C + *\n",
            "-> expected: A B C + *\n",
            "\n",
            "Infix: A*(B+C)/D\n",
            "Postfix: A B C + * D /\n",
            "-> expected: A B C + * D /\n",
            "\n"
          ]
        }
      ]
    }
  ]
}